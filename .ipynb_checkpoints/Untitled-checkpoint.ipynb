{
 "cells": [
  {
   "cell_type": "code",
   "execution_count": 11,
   "metadata": {},
   "outputs": [],
   "source": [
    "import os"
   ]
  },
  {
   "cell_type": "code",
   "execution_count": 36,
   "metadata": {},
   "outputs": [],
   "source": [
    "ops = ['FCMOVE',\t\n",
    "'FCMOVBE',\t\n",
    "'FCMOVU',\t\n",
    "'FCMOVNB',\t\n",
    "'FCMOVNE',\t\n",
    "'FCMOVNBE',\n",
    "'FCMOVNU']\n",
    "def nasm(stmt):\n",
    "    out = os.popen(\"rasm2 -b 64 -a x86.nasm '\" + stmt+ \"'\").read()\n",
    "    return \"a \\\"{}\\\" {}\".format(stmt, out)"
   ]
  },
  {
   "cell_type": "code",
   "execution_count": 20,
   "metadata": {},
   "outputs": [
    {
     "name": "stdout",
     "output_type": "stream",
     "text": [
      "a \"fcmove st0, st1\" dac9\n",
      "a \"fcmovbe st0, st1\" dad1\n",
      "a \"fcmovu st0, st1\" dad9\n",
      "a \"fcmovnb st0, st1\" dbc1\n",
      "a \"fcmovne st0, st1\" dbc9\n",
      "a \"fcmovnbe st0, st1\" dbd1\n",
      "a \"fcmovnu st0, st1\" dbd9\n"
     ]
    }
   ],
   "source": [
    "for op in ops:\n",
    "    stmt = op.lower() + \" st0, st1\"\n",
    "    #print(stmt)\n",
    "    out = os.popen(\"rasm2 -a x86.nasm '\" + stmt+ \"'\").read()\n",
    "    print(\"a \\\"{}\\\" {}\".format(stmt, out),end=\"\")"
   ]
  },
  {
   "cell_type": "code",
   "execution_count": 23,
   "metadata": {},
   "outputs": [
    {
     "name": "stdout",
     "output_type": "stream",
     "text": [
      "a \"ffree st0\" ddc0\n",
      "a \"ffree st(7)\" "
     ]
    }
   ],
   "source": [
    "ops = [\"ffree\"]\n",
    "regs = [\"st0\", \"st7\"]\n",
    "for op in ops:\n",
    "    for reg in regs:\n",
    "        stmt = op.lower() + \" \" + reg\n",
    "        out = os.popen(\"rasm2 -a x86.nasm '\" + stmt+ \"'\").read()\n",
    "        print(\"a \\\"{}\\\" {}\".format(stmt, out),end=\"\")"
   ]
  },
  {
   "cell_type": "code",
   "execution_count": 37,
   "metadata": {},
   "outputs": [
    {
     "name": "stdout",
     "output_type": "stream",
     "text": [
      "a \"ficom word [rax]\" de10\n",
      "\n",
      "a \"ficom dword [rax]\" da10\n",
      "\n"
     ]
    }
   ],
   "source": [
    "stmts = [\"ficom word [rax]\", \"ficom dword [rax]\"]\n",
    "for s in stmts:\n",
    "    print(nasm(s),end=\"\")"
   ]
  },
  {
   "cell_type": "code",
   "execution_count": null,
   "metadata": {},
   "outputs": [],
   "source": []
  }
 ],
 "metadata": {
  "kernelspec": {
   "display_name": "Python 3",
   "language": "python",
   "name": "python3"
  },
  "language_info": {
   "codemirror_mode": {
    "name": "ipython",
    "version": 3
   },
   "file_extension": ".py",
   "mimetype": "text/x-python",
   "name": "python",
   "nbconvert_exporter": "python",
   "pygments_lexer": "ipython3",
   "version": "3.5.3"
  }
 },
 "nbformat": 4,
 "nbformat_minor": 2
}
